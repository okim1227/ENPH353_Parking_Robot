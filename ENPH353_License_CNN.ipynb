{
  "nbformat": 4,
  "nbformat_minor": 0,
  "metadata": {
    "colab": {
      "name": "ENPH353 License CNN",
      "provenance": [],
      "collapsed_sections": [],
      "include_colab_link": true
    },
    "kernelspec": {
      "name": "python3",
      "display_name": "Python 3"
    },
    "language_info": {
      "name": "python"
    },
    "accelerator": "GPU",
    "widgets": {
      "application/vnd.jupyter.widget-state+json": {
        "113c2e669e12491abc6b19dc0a5d1778": {
          "model_module": "@jupyter-widgets/controls",
          "model_name": "VBoxModel",
          "model_module_version": "1.5.0",
          "state": {
            "_dom_classes": [
              "widget-interact"
            ],
            "_model_module": "@jupyter-widgets/controls",
            "_model_module_version": "1.5.0",
            "_model_name": "VBoxModel",
            "_view_count": null,
            "_view_module": "@jupyter-widgets/controls",
            "_view_module_version": "1.5.0",
            "_view_name": "VBoxView",
            "box_style": "",
            "children": [
              "IPY_MODEL_540ad61a811041b489606a9dac142383",
              "IPY_MODEL_5501abc4f04d478db9ba722dae8f93bb"
            ],
            "layout": "IPY_MODEL_72043a7a15a748f1af488313fb708d3e"
          }
        },
        "540ad61a811041b489606a9dac142383": {
          "model_module": "@jupyter-widgets/controls",
          "model_name": "IntSliderModel",
          "model_module_version": "1.5.0",
          "state": {
            "_dom_classes": [],
            "_model_module": "@jupyter-widgets/controls",
            "_model_module_version": "1.5.0",
            "_model_name": "IntSliderModel",
            "_view_count": null,
            "_view_module": "@jupyter-widgets/controls",
            "_view_module_version": "1.5.0",
            "_view_name": "IntSliderView",
            "continuous_update": true,
            "description": "index",
            "description_tooltip": null,
            "disabled": false,
            "layout": "IPY_MODEL_7c2960d5a73f4abea07ad197ec13729f",
            "max": 1454,
            "min": 0,
            "orientation": "horizontal",
            "readout": true,
            "readout_format": "d",
            "step": 1,
            "style": "IPY_MODEL_6ec54729aabe4d18a07584076e93e7a5",
            "value": 10
          }
        },
        "5501abc4f04d478db9ba722dae8f93bb": {
          "model_module": "@jupyter-widgets/output",
          "model_name": "OutputModel",
          "model_module_version": "1.0.0",
          "state": {
            "_dom_classes": [],
            "_model_module": "@jupyter-widgets/output",
            "_model_module_version": "1.0.0",
            "_model_name": "OutputModel",
            "_view_count": null,
            "_view_module": "@jupyter-widgets/output",
            "_view_module_version": "1.0.0",
            "_view_name": "OutputView",
            "layout": "IPY_MODEL_904baa64da134c48aef5f24d92bc2b08",
            "msg_id": "",
            "outputs": [
              {
                "output_type": "display_data",
                "data": {
                  "text/plain": "<Figure size 432x288 with 1 Axes>",
                  "image/png": "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\n"
                },
                "metadata": {
                  "needs_background": "light"
                }
              }
            ]
          }
        },
        "72043a7a15a748f1af488313fb708d3e": {
          "model_module": "@jupyter-widgets/base",
          "model_name": "LayoutModel",
          "model_module_version": "1.2.0",
          "state": {
            "_model_module": "@jupyter-widgets/base",
            "_model_module_version": "1.2.0",
            "_model_name": "LayoutModel",
            "_view_count": null,
            "_view_module": "@jupyter-widgets/base",
            "_view_module_version": "1.2.0",
            "_view_name": "LayoutView",
            "align_content": null,
            "align_items": null,
            "align_self": null,
            "border": null,
            "bottom": null,
            "display": null,
            "flex": null,
            "flex_flow": null,
            "grid_area": null,
            "grid_auto_columns": null,
            "grid_auto_flow": null,
            "grid_auto_rows": null,
            "grid_column": null,
            "grid_gap": null,
            "grid_row": null,
            "grid_template_areas": null,
            "grid_template_columns": null,
            "grid_template_rows": null,
            "height": null,
            "justify_content": null,
            "justify_items": null,
            "left": null,
            "margin": null,
            "max_height": null,
            "max_width": null,
            "min_height": null,
            "min_width": null,
            "object_fit": null,
            "object_position": null,
            "order": null,
            "overflow": null,
            "overflow_x": null,
            "overflow_y": null,
            "padding": null,
            "right": null,
            "top": null,
            "visibility": null,
            "width": null
          }
        },
        "7c2960d5a73f4abea07ad197ec13729f": {
          "model_module": "@jupyter-widgets/base",
          "model_name": "LayoutModel",
          "model_module_version": "1.2.0",
          "state": {
            "_model_module": "@jupyter-widgets/base",
            "_model_module_version": "1.2.0",
            "_model_name": "LayoutModel",
            "_view_count": null,
            "_view_module": "@jupyter-widgets/base",
            "_view_module_version": "1.2.0",
            "_view_name": "LayoutView",
            "align_content": null,
            "align_items": null,
            "align_self": null,
            "border": null,
            "bottom": null,
            "display": null,
            "flex": null,
            "flex_flow": null,
            "grid_area": null,
            "grid_auto_columns": null,
            "grid_auto_flow": null,
            "grid_auto_rows": null,
            "grid_column": null,
            "grid_gap": null,
            "grid_row": null,
            "grid_template_areas": null,
            "grid_template_columns": null,
            "grid_template_rows": null,
            "height": null,
            "justify_content": null,
            "justify_items": null,
            "left": null,
            "margin": null,
            "max_height": null,
            "max_width": null,
            "min_height": null,
            "min_width": null,
            "object_fit": null,
            "object_position": null,
            "order": null,
            "overflow": null,
            "overflow_x": null,
            "overflow_y": null,
            "padding": null,
            "right": null,
            "top": null,
            "visibility": null,
            "width": null
          }
        },
        "6ec54729aabe4d18a07584076e93e7a5": {
          "model_module": "@jupyter-widgets/controls",
          "model_name": "SliderStyleModel",
          "model_module_version": "1.5.0",
          "state": {
            "_model_module": "@jupyter-widgets/controls",
            "_model_module_version": "1.5.0",
            "_model_name": "SliderStyleModel",
            "_view_count": null,
            "_view_module": "@jupyter-widgets/base",
            "_view_module_version": "1.2.0",
            "_view_name": "StyleView",
            "description_width": "",
            "handle_color": null
          }
        },
        "904baa64da134c48aef5f24d92bc2b08": {
          "model_module": "@jupyter-widgets/base",
          "model_name": "LayoutModel",
          "model_module_version": "1.2.0",
          "state": {
            "_model_module": "@jupyter-widgets/base",
            "_model_module_version": "1.2.0",
            "_model_name": "LayoutModel",
            "_view_count": null,
            "_view_module": "@jupyter-widgets/base",
            "_view_module_version": "1.2.0",
            "_view_name": "LayoutView",
            "align_content": null,
            "align_items": null,
            "align_self": null,
            "border": null,
            "bottom": null,
            "display": null,
            "flex": null,
            "flex_flow": null,
            "grid_area": null,
            "grid_auto_columns": null,
            "grid_auto_flow": null,
            "grid_auto_rows": null,
            "grid_column": null,
            "grid_gap": null,
            "grid_row": null,
            "grid_template_areas": null,
            "grid_template_columns": null,
            "grid_template_rows": null,
            "height": null,
            "justify_content": null,
            "justify_items": null,
            "left": null,
            "margin": null,
            "max_height": null,
            "max_width": null,
            "min_height": null,
            "min_width": null,
            "object_fit": null,
            "object_position": null,
            "order": null,
            "overflow": null,
            "overflow_x": null,
            "overflow_y": null,
            "padding": null,
            "right": null,
            "top": null,
            "visibility": null,
            "width": null
          }
        }
      }
    }
  },
  "cells": [
    {
      "cell_type": "markdown",
      "metadata": {
        "id": "view-in-github",
        "colab_type": "text"
      },
      "source": [
        "<a href=\"https://colab.research.google.com/github/okim1227/ENPH353_Parking_Robot/blob/main/ENPH353_License_CNN.ipynb\" target=\"_parent\"><img src=\"https://colab.research.google.com/assets/colab-badge.svg\" alt=\"Open In Colab\"/></a>"
      ]
    },
    {
      "cell_type": "code",
      "execution_count": null,
      "metadata": {
        "id": "Kz8OtzZlNvx7"
      },
      "outputs": [],
      "source": [
        "import string\n",
        "import random\n",
        "from random import randint\n",
        "import cv2\n",
        "import numpy as np \n",
        "import os\n",
        "import matplotlib.pyplot as plt\n",
        "from PIL import Image, ImageFont, ImageDraw\n",
        "from google.colab.patches import cv2_imshow"
      ]
    },
    {
      "cell_type": "markdown",
      "source": [
        "# **Making Wrangled Sample Plates** (Run Once)\n",
        "\n",
        "**Resized, rotated**\n",
        "\n",
        "\n",
        "\n"
      ],
      "metadata": {
        "id": "3TpQuUowQNmH"
      }
    },
    {
      "cell_type": "code",
      "source": [
        "# Run this command only once:\n",
        "\n",
        "# makes the output folder /content/plate_blurred/\n",
        "path = \"/content/drive/MyDrive/ENPH353/\"\n",
        "!mkdir /content/drive/MyDrive/ENPH353/plate_blurred"
      ],
      "metadata": {
        "id": "qZXyg_rqN-Pg",
        "colab": {
          "base_uri": "https://localhost:8080/"
        },
        "outputId": "d359560e-9b09-4237-a240-a7218fc5126e"
      },
      "execution_count": null,
      "outputs": [
        {
          "output_type": "stream",
          "name": "stdout",
          "text": [
            "mkdir: cannot create directory ‘/content/drive/MyDrive/ENPH353/plate_blurred’: No such file or directory\n"
          ]
        }
      ]
    },
    {
      "cell_type": "code",
      "source": [
        "# Run this command only once\n",
        "\n",
        "# Downloads the license plate template to /content/blank_plate.png\n",
        "!gdown --id 1Q_FsX2z6DaDCLM91qGZzwvctaW9bN60v\n",
        "1\n",
        "2\n",
        "3\n",
        "4\n",
        "1\n",
        "2\n",
        "3\n",
        "4\n",
        "1\n",
        "2\n",
        "3\n",
        "44"
      ],
      "metadata": {
        "colab": {
          "base_uri": "https://localhost:8080/"
        },
        "id": "Zv0fU5_LOBRk",
        "outputId": "97095f9d-3af1-4f55-efa7-1ec367432980"
      },
      "execution_count": null,
      "outputs": [
        {
          "output_type": "stream",
          "name": "stdout",
          "text": [
            "Downloading...\n",
            "From: https://drive.google.com/uc?id=1Q_FsX2z6DaDCLM91qGZzwvctaW9bN60v\n",
            "To: /content/blank_plate.png\n",
            "\r  0% 0.00/144k [00:00<?, ?B/s]\r100% 144k/144k [00:00<00:00, 52.4MB/s]\n"
          ]
        },
        {
          "output_type": "execute_result",
          "data": {
            "text/plain": [
              "44"
            ]
          },
          "metadata": {},
          "execution_count": 4
        }
      ]
    },
    {
      "cell_type": "code",
      "source": [
        "from google.colab import drive\n",
        "drive.mount('/content/drive')"
      ],
      "metadata": {
        "colab": {
          "base_uri": "https://localhost:8080/"
        },
        "id": "EJkXmYw-AzLN",
        "outputId": "c03ecbd2-28e1-4844-d729-be5dd777389a"
      },
      "execution_count": null,
      "outputs": [
        {
          "output_type": "stream",
          "name": "stdout",
          "text": [
            "Mounted at /content/drive\n"
          ]
        }
      ]
    },
    {
      "cell_type": "code",
      "source": [
        "path = \"/content/drive/MyDrive/ENPH353/\"\n",
        "\n",
        "NUMBER_OF_PLATES = 10\n",
        "\n",
        "for i in range(0, NUMBER_OF_PLATES):\n",
        "\n",
        "    # Pick two random letters\n",
        "    plate_alpha = \"\"\n",
        "    for _ in range(0, 2):\n",
        "        plate_alpha += (random.choice(string.ascii_uppercase))\n",
        "\n",
        "    # Pick two random numbers\n",
        "    num = randint(0, 99)\n",
        "    plate_num = \"{:02d}\".format(num)\n",
        "\n",
        "    # Write plate to image\n",
        "    blank_plate = cv2.imread(path+'blank_plate.png')\n",
        "\n",
        "    # Convert into a PIL image (this is so we can use the monospaced fonts)\n",
        "    blank_plate_pil = Image.fromarray(blank_plate)\n",
        "\n",
        "    # Get a drawing context\n",
        "    draw = ImageDraw.Draw(blank_plate_pil)\n",
        "    monospace = ImageFont.truetype(font=\"/usr/share/fonts/truetype/liberation/LiberationMono-Regular.ttf\", \n",
        "                                   size=165)\n",
        "    draw.text(xy=(48, 75),\n",
        "              text=plate_alpha + \" \" + plate_num, \n",
        "              fill=(255,0,0), font=monospace)\n",
        "\n",
        "    # Convert back to OpenCV image and save\n",
        "    blank_plate = np.array(blank_plate_pil)\n",
        "    \n",
        "    img = blank_plate\n",
        "    \n",
        "    #print('Original Dimensions : ',img.shape)\n",
        "    \n",
        "    # downsize img\n",
        "    downsize_scale_percent = 10 # percent of original size\n",
        "    d_width = int(img.shape[1] * downsize_scale_percent / 100)\n",
        "    d_height = int(img.shape[0] * downsize_scale_percent / 100)\n",
        "    down_dim = (d_width, d_height)\n",
        "\n",
        "    downsized = cv2.resize(img, down_dim, interpolation = cv2.INTER_AREA)\n",
        "    #print('Downsized Dimensions : ',downsized.shape)\n",
        "\n",
        "    # upsize img\n",
        "    upsize_scale_percent = 1000 # percent of original size\n",
        "    u_width = int(downsized.shape[1] * upsize_scale_percent / 100)\n",
        "    u_height = int(downsized.shape[0] * upsize_scale_percent / 100)\n",
        "    up_dim = (u_width, u_height)\n",
        "      \n",
        "    upsized = cv2.resize(downsized, up_dim, interpolation = cv2.INTER_AREA)\n",
        "    print('Upsized Dimensions : ',upsized.shape)\n",
        "\n",
        "    # rescale the image to match detected plates\n",
        "    resized_scale_percent_H = 41/290*100\n",
        "    resized_scale_percent_W = 175/600*100\n",
        "    r_width = int(upsized.shape[1] * resized_scale_percent_W / 100)\n",
        "    r_height = int(upsized.shape[0] * resized_scale_percent_H / 100)\n",
        "    re_dim = (r_width, r_height)\n",
        "\n",
        "    resized = cv2.resize(upsized, re_dim, interpolation = cv2.INTER_AREA)\n",
        "    print('Resized Dimensions : ',resized.shape)\n",
        "\n",
        "    # turn into binary\n",
        "    gray = cv2.cvtColor(resized, cv2.COLOR_BGR2GRAY)\n",
        "    _, binary = cv2.threshold(gray, 125, 255, cv2.THRESH_BINARY_INV)\n",
        "    print('Resized Dimensions : ',binary.shape)\n",
        "    \n",
        "    plt.imshow(upsized)\n",
        "    plt.show()\n",
        "\n",
        "    plt.imshow(resized)\n",
        "    plt.show()\n",
        "\n",
        "    plt.imshow(binary, cmap='gray')\n",
        "    plt.show()\n",
        "\n",
        "\n",
        "    # Write license plate to file\n",
        "    # cv2.imwrite(os.path.join(path + \"plate_blurred/\", \n",
        "    #                         \"plate_{}{}.png\".format(plate_alpha, plate_num)),\n",
        "    #                         binary)"
      ],
      "metadata": {
        "id": "jjG0k8G2OGJH"
      },
      "execution_count": null,
      "outputs": []
    },
    {
      "cell_type": "code",
      "source": [
        "# PATH = \"/content/drive/MyDrive/ENPH353/plate_blurred\"\n",
        "# labels_raw = !ls \"{PATH}\"\n",
        "# labels = labels_raw[0].split()\n",
        "# print(labels)"
      ],
      "metadata": {
        "id": "f1pe7XLWOmJX"
      },
      "execution_count": null,
      "outputs": []
    },
    {
      "cell_type": "markdown",
      "source": [
        "\n",
        "\n",
        "```\n",
        "# This is formatted as code\n",
        "```\n",
        "\n",
        "# **Build Model**\n"
      ],
      "metadata": {
        "id": "SHmlkHdcQJEb"
      }
    },
    {
      "cell_type": "code",
      "source": [
        "import math\n",
        "import numpy as np\n",
        "import re\n",
        "from collections import Counter\n",
        "from matplotlib import pyplot as plt\n",
        "from PIL import Image"
      ],
      "metadata": {
        "id": "G6CVzh_8tX8_"
      },
      "execution_count": null,
      "outputs": []
    },
    {
      "cell_type": "code",
      "source": [
        "# You will need to update this path to match the folder in your Google Drive\n",
        "PATH = \"/content/drive/MyDrive/ENPH353/plate_blurred\""
      ],
      "metadata": {
        "id": "EHLf0L0Sprnc"
      },
      "execution_count": null,
      "outputs": []
    },
    {
      "cell_type": "code",
      "source": [
        "def files_in_folder(folder_path):\n",
        "  '''\n",
        "  Returns a list of strings where each entry is a file in the folder_path.\n",
        "  \n",
        "  Parameters\n",
        "  ----------\n",
        "  \n",
        "  folder_path : str\n",
        "     A string to folder for which the file listing is returned.\n",
        "     \n",
        "  '''\n",
        "  files_A = !ls \"{folder_path}\"\n",
        "  # The files when listed from Google Drive have a particular format. They are\n",
        "  # grouped in sets of 4 and have spaces and tabs as delimiters.\n",
        "  \n",
        "  # Split the string listing sets of 4 files by tab and space and remove any \n",
        "  # empty splits.\n",
        "  files_B = [list(filter(None, re.split('\\t|\\s', files))) for files in files_A]\n",
        "  \n",
        "  # Concatenate all splits into a single sorted list\n",
        "  files_C = []\n",
        "  for element in files_B:\n",
        "    files_C = files_C + element\n",
        "  files_C.sort()\n",
        "  \n",
        "  return files_C"
      ],
      "metadata": {
        "id": "SR3wzTYFP4El"
      },
      "execution_count": null,
      "outputs": []
    },
    {
      "cell_type": "code",
      "source": [
        "files = files_in_folder(PATH)"
      ],
      "metadata": {
        "id": "vWiFFPr0pFq7"
      },
      "execution_count": null,
      "outputs": []
    },
    {
      "cell_type": "code",
      "source": [
        "#crop the images\n",
        "import cv2\n",
        "\n",
        "i = 0\n",
        "\n",
        "for file in files[:]:\n",
        "  img = cv2.imread(f'{PATH}/{file}')\n",
        "  crop_img1 = img[0:41, 18:43]\n",
        "  crop_img2 = img[0:41, 43:68]\n",
        "  crop_img3 = img[0:41, 103:128]\n",
        "  crop_img4 = img[0:41, 128:153]\n",
        "  \n",
        "  img_1 = \"/content/drive/MyDrive/ENPH353/plate_cropped/\" + file[6] + \".\" + str(i) + \".png\"\n",
        "  img_2 = \"/content/drive/MyDrive/ENPH353/plate_cropped/\" + file[7] + \".\" + str(i) +\".png\"\n",
        "  img_3 = \"/content/drive/MyDrive/ENPH353/plate_cropped/\" + file[8] + \".\" + str(i) +\".png\"\n",
        "  img_4 = \"/content/drive/MyDrive/ENPH353/plate_cropped/\" + file[9] + \".\" + str(i) +\".png\"\n",
        "\n",
        "  cv2.imwrite(img_1, crop_img1)\n",
        "  cv2.imwrite(img_2, crop_img2)\n",
        "  cv2.imwrite(img_3, crop_img3)\n",
        "  cv2.imwrite(img_4, crop_img4)\n",
        "\n",
        "  i = i + 1\n",
        "\n",
        "  #print(crop_img1.shape)"
      ],
      "metadata": {
        "id": "NkXEULVbpINb"
      },
      "execution_count": null,
      "outputs": []
    },
    {
      "cell_type": "code",
      "source": [
        "def convert_to_one_hot(letter):\n",
        "  array = ['A', 'B', 'C', 'D', 'E', 'F', 'G', 'H', 'I', 'J', 'K', 'L', 'M', 'N', 'O', 'P', 'Q', 'R', 'S', 'T', 'U', 'V', 'W', 'X', 'Y', 'Z', '0', '1', '2', '3', '4', '5', '6', '7', '8', '9']\n",
        "  index = array.index(letter)\n",
        "  Y= np.eye(36)[index]\n",
        "  return Y"
      ],
      "metadata": {
        "id": "v7slBqYMpLFp"
      },
      "execution_count": null,
      "outputs": []
    },
    {
      "cell_type": "code",
      "source": [
        "#X_dataset= np.array([data[0] for data in imgset[:]])/255\n",
        "\n",
        "\n",
        "# Load the images and assign label 0 and 1\n",
        "datas = files_in_folder(\"/content/drive/MyDrive/ENPH353/plate_cropped/\")\n",
        "\n",
        "imgset = np.array([[np.array(Image.open(f'{\"/content/drive/MyDrive/ENPH353/plate_cropped/\"}/{file}')), file[0]]\n",
        "                    for file in datas[:]])\n",
        "\n",
        "# Shuffle the dataset\n",
        "np.random.shuffle(imgset)\n",
        "\n",
        "X_dataset_orig = np.array([data[0] for data in imgset[:]])\n",
        "\n",
        "cv2_imshow(X_dataset_orig[0])\n",
        "\n",
        "print(X_dataset_orig.shape)\n",
        "\n",
        "\n",
        "X_dataset = X_dataset_orig/255\n",
        "Y_dataset_orig = np.array([[data[1]] for data in imgset])\n",
        "Y_dataset = np.array([convert_to_one_hot(letter) for letter in Y_dataset_orig])\n",
        "\n",
        "\n",
        "print(X_dataset.shape)"
      ],
      "metadata": {
        "id": "VzuUzsQfpMCm",
        "colab": {
          "base_uri": "https://localhost:8080/",
          "height": 147
        },
        "outputId": "8280a01f-b8cf-4e75-cb96-5eb2f3980606"
      },
      "execution_count": null,
      "outputs": [
        {
          "output_type": "stream",
          "name": "stderr",
          "text": [
            "/usr/local/lib/python3.7/dist-packages/ipykernel_launcher.py:8: VisibleDeprecationWarning: Creating an ndarray from ragged nested sequences (which is a list-or-tuple of lists-or-tuples-or ndarrays with different lengths or shapes) is deprecated. If you meant to do this, you must specify 'dtype=object' when creating the ndarray.\n",
            "  \n"
          ]
        },
        {
          "output_type": "display_data",
          "data": {
            "text/plain": [
              "<PIL.Image.Image image mode=RGB size=25x41 at 0x7F6629905390>"
            ],
            "image/png": "[encoded data removed]"
          },
          "metadata": {}
        },
        {
          "output_type": "stream",
          "name": "stdout",
          "text": [
            "(1454, 41, 25, 3)\n",
            "(1454, 41, 25, 3)\n"
          ]
        }
      ]
    },
    {
      "cell_type": "code",
      "source": [
        "VALIDATION_SPLIT = 0.2\n",
        "\n",
        "print(\"Total examples: {:d}\\nTraining examples: {:d}\\nTest examples: {:d}\".\n",
        "      format(X_dataset.shape[0],\n",
        "             math.ceil(X_dataset.shape[0] * (1-VALIDATION_SPLIT)),\n",
        "             math.floor(X_dataset.shape[0] * VALIDATION_SPLIT)))\n",
        "print(\"X shape: \" + str(X_dataset.shape))\n",
        "print(\"Y shape: \" + str(Y_dataset.shape))"
      ],
      "metadata": {
        "id": "8VkE_upDpPMn",
        "colab": {
          "base_uri": "https://localhost:8080/"
        },
        "outputId": "9327ebfd-ba34-4346-a3bd-8fa1a7db6332"
      },
      "execution_count": null,
      "outputs": [
        {
          "output_type": "stream",
          "name": "stdout",
          "text": [
            "Total examples: 1454\n",
            "Training examples: 1164\n",
            "Test examples: 290\n",
            "X shape: (1454, 41, 25, 3)\n",
            "Y shape: (1454, 36)\n"
          ]
        }
      ]
    },
    {
      "cell_type": "code",
      "source": [
        "from ipywidgets import interact\n",
        "import ipywidgets as ipywidgets\n",
        "\n",
        "# Display images in the training data set. \n",
        "def displayImage(index):\n",
        "  plt.imshow(X_dataset[index])\n",
        "  caption = (\"y = \" + str(Y_dataset[index]))#str(np.squeeze(Y_dataset_orig[:, index])))\n",
        "  plt.text(0.5, 0.5, caption, \n",
        "           color='orange', fontsize = 20,\n",
        "           horizontalalignment='left', verticalalignment='top')\n",
        "\n",
        "\n",
        "interact(displayImage, \n",
        "         index=ipywidgets.IntSlider(min=0, max=X_dataset_orig.shape[0],\n",
        "                                    step=1, value=10))\n",
        "displayImage(35)"
      ],
      "metadata": {
        "id": "f98vszm8tIXD",
        "colab": {
          "base_uri": "https://localhost:8080/",
          "height": 549,
          "referenced_widgets": [
            "113c2e669e12491abc6b19dc0a5d1778",
            "540ad61a811041b489606a9dac142383",
            "5501abc4f04d478db9ba722dae8f93bb",
            "72043a7a15a748f1af488313fb708d3e",
            "7c2960d5a73f4abea07ad197ec13729f",
            "6ec54729aabe4d18a07584076e93e7a5",
            "904baa64da134c48aef5f24d92bc2b08"
          ]
        },
        "outputId": "8bb78998-2d57-4895-d09c-c05e24f003de"
      },
      "execution_count": null,
      "outputs": [
        {
          "output_type": "display_data",
          "data": {
            "text/plain": [
              "interactive(children=(IntSlider(value=10, description='index', max=1454), Output()), _dom_classes=('widget-int…"
            ],
            "application/vnd.jupyter.widget-view+json": {
              "version_major": 2,
              "version_minor": 0,
              "model_id": "113c2e669e12491abc6b19dc0a5d1778"
            }
          },
          "metadata": {}
        },
        {
          "output_type": "display_data",
          "data": {
            "text/plain": [
              "<Figure size 432x288 with 1 Axes>"
            ],
            "image/png": "[encoded data removed]"
          },
          "metadata": {
            "needs_background": "light"
          }
        }
      ]
    },
    {
      "cell_type": "markdown",
      "source": [
        "# **Training**"
      ],
      "metadata": {
        "id": "IPQH9cl7-X4m"
      }
    },
    {
      "cell_type": "code",
      "source": [
        "# Use tensorflow 1.x so it's compatible with ROS Melodic\n",
        "%tensorflow_version 1.14.0"
      ],
      "metadata": {
        "id": "gUnte1FH-fPN",
        "colab": {
          "base_uri": "https://localhost:8080/"
        },
        "outputId": "571c1545-6a01-43aa-f1a7-296a244411bd"
      },
      "execution_count": null,
      "outputs": [
        {
          "output_type": "stream",
          "name": "stdout",
          "text": [
            "`%tensorflow_version` only switches the major version: 1.x or 2.x.\n",
            "You set: `1.14.0`. This will be interpreted as: `1.x`.\n",
            "\n",
            "\n",
            "TensorFlow is already loaded. Please restart the runtime to change versions.\n"
          ]
        }
      ]
    },
    {
      "cell_type": "code",
      "source": [
        "#!pip install h5py==2.10.0 --force-reinstall"
      ],
      "metadata": {
        "id": "n6kU7_ZhC0tV",
        "colab": {
          "base_uri": "https://localhost:8080/",
          "height": 627
        },
        "outputId": "60cfe3d9-2011-41a5-b581-6f31754a00cf"
      },
      "execution_count": null,
      "outputs": [
        {
          "output_type": "stream",
          "name": "stdout",
          "text": [
            "Collecting h5py==2.10.0\n",
            "  Downloading h5py-2.10.0-cp37-cp37m-manylinux1_x86_64.whl (2.9 MB)\n",
            "\u001b[K     |████████████████████████████████| 2.9 MB 4.1 MB/s \n",
            "\u001b[?25hCollecting six\n",
            "  Downloading six-1.16.0-py2.py3-none-any.whl (11 kB)\n",
            "Collecting numpy>=1.7\n",
            "  Downloading numpy-1.21.5-cp37-cp37m-manylinux_2_12_x86_64.manylinux2010_x86_64.whl (15.7 MB)\n",
            "\u001b[K     |████████████████████████████████| 15.7 MB 38.3 MB/s \n",
            "\u001b[?25hInstalling collected packages: six, numpy, h5py\n",
            "  Attempting uninstall: six\n",
            "    Found existing installation: six 1.15.0\n",
            "    Uninstalling six-1.15.0:\n",
            "      Successfully uninstalled six-1.15.0\n",
            "  Attempting uninstall: numpy\n",
            "    Found existing installation: numpy 1.21.5\n",
            "    Uninstalling numpy-1.21.5:\n",
            "      Successfully uninstalled numpy-1.21.5\n",
            "  Attempting uninstall: h5py\n",
            "    Found existing installation: h5py 3.1.0\n",
            "    Uninstalling h5py-3.1.0:\n",
            "      Successfully uninstalled h5py-3.1.0\n",
            "\u001b[31mERROR: pip's dependency resolver does not currently take into account all the packages that are installed. This behaviour is the source of the following dependency conflicts.\n",
            "lucid 0.3.10 requires umap-learn, which is not installed.\n",
            "tensorflow 1.15.2 requires gast==0.2.2, but you have gast 0.5.3 which is incompatible.\n",
            "lucid 0.3.10 requires numpy<=1.19, but you have numpy 1.21.5 which is incompatible.\n",
            "kapre 0.3.7 requires tensorflow>=2.0.0, but you have tensorflow 1.15.2 which is incompatible.\n",
            "google-colab 1.0.0 requires six~=1.15.0, but you have six 1.16.0 which is incompatible.\n",
            "datascience 0.10.6 requires folium==0.2.1, but you have folium 0.8.3 which is incompatible.\n",
            "albumentations 0.1.12 requires imgaug<0.2.7,>=0.2.5, but you have imgaug 0.2.9 which is incompatible.\u001b[0m\n",
            "Successfully installed h5py-2.10.0 numpy-1.21.5 six-1.16.0\n"
          ]
        },
        {
          "output_type": "display_data",
          "data": {
            "application/vnd.colab-display-data+json": {
              "pip_warning": {
                "packages": [
                  "numpy",
                  "six"
                ]
              }
            }
          },
          "metadata": {}
        }
      ]
    },
    {
      "cell_type": "code",
      "source": [
        "from tensorflow.keras import layers\n",
        "from tensorflow.keras import models\n",
        "from tensorflow.keras import optimizers\n",
        "\n",
        "from tensorflow.keras.utils import plot_model\n",
        "from tensorflow.python.keras import backend"
      ],
      "metadata": {
        "id": "2jGgPHw0D212"
      },
      "execution_count": null,
      "outputs": []
    },
    {
      "cell_type": "code",
      "source": [
        "def reset_weights(model):\n",
        "    session = backend.get_session()\n",
        "    for layer in model.layers: \n",
        "        if hasattr(layer, 'kernel_initializer'):\n",
        "            layer.kernel.initializer.run(session=session)"
      ],
      "metadata": {
        "id": "XHPsc7fQC1On"
      },
      "execution_count": null,
      "outputs": []
    },
    {
      "cell_type": "code",
      "source": [
        "conv_model = models.Sequential()\n",
        "conv_model.add(layers.Conv2D(32, (3, 3), activation='relu',\n",
        "                             input_shape=(41, 25, 1)))\n",
        "conv_model.add(layers.MaxPooling2D((2, 2)))\n",
        "conv_model.add(layers.Conv2D(64, (3, 3), activation='relu'))\n",
        "conv_model.add(layers.MaxPooling2D((2, 2)))\n",
        "conv_model.add(layers.Conv2D(41, (3, 3), activation='relu'))\n",
        "conv_model.add(layers.MaxPooling2D((2, 2)))\n",
        "# conv_model.add(layers.Conv2D(25, (3, 3), activation='relu'))\n",
        "# conv_model.add(layers.MaxPooling2D((2, 2)))\n",
        "conv_model.add(layers.Flatten())\n",
        "conv_model.add(layers.Dropout(0.5))\n",
        "conv_model.add(layers.Dense(512, activation='relu'))\n",
        "conv_model.add(layers.Dense(36, activation='softmax'))"
      ],
      "metadata": {
        "id": "pLGygIqFD60u"
      },
      "execution_count": null,
      "outputs": []
    },
    {
      "cell_type": "code",
      "source": [
        "conv_model.summary()"
      ],
      "metadata": {
        "id": "Z-qx-LL5D8oJ",
        "colab": {
          "base_uri": "https://localhost:8080/"
        },
        "outputId": "b8078025-a1f2-4504-8d46-591bd7f7bff7"
      },
      "execution_count": null,
      "outputs": [
        {
          "output_type": "stream",
          "name": "stdout",
          "text": [
            "Model: \"sequential_3\"\n",
            "_________________________________________________________________\n",
            "Layer (type)                 Output Shape              Param #   \n",
            "=================================================================\n",
            "conv2d_7 (Conv2D)            (None, 39, 23, 32)        320       \n",
            "_________________________________________________________________\n",
            "max_pooling2d_6 (MaxPooling2 (None, 19, 11, 32)        0         \n",
            "_________________________________________________________________\n",
            "conv2d_8 (Conv2D)            (None, 17, 9, 64)         18496     \n",
            "_________________________________________________________________\n",
            "max_pooling2d_7 (MaxPooling2 (None, 8, 4, 64)          0         \n",
            "_________________________________________________________________\n",
            "conv2d_9 (Conv2D)            (None, 6, 2, 41)          23657     \n",
            "_________________________________________________________________\n",
            "max_pooling2d_8 (MaxPooling2 (None, 3, 1, 41)          0         \n",
            "_________________________________________________________________\n",
            "flatten_2 (Flatten)          (None, 123)               0         \n",
            "_________________________________________________________________\n",
            "dropout_2 (Dropout)          (None, 123)               0         \n",
            "_________________________________________________________________\n",
            "dense_4 (Dense)              (None, 512)               63488     \n",
            "_________________________________________________________________\n",
            "dense_5 (Dense)              (None, 36)                18468     \n",
            "=================================================================\n",
            "Total params: 124,429\n",
            "Trainable params: 124,429\n",
            "Non-trainable params: 0\n",
            "_________________________________________________________________\n"
          ]
        }
      ]
    },
    {
      "cell_type": "code",
      "source": [
        "LEARNING_RATE = 1e-4\n",
        "conv_model.compile(loss='categorical_crossentropy',\n",
        "                   optimizer=optimizers.RMSprop(lr=LEARNING_RATE),\n",
        "                   metrics=['acc'])"
      ],
      "metadata": {
        "id": "te3Pm8jVD-oS"
      },
      "execution_count": null,
      "outputs": []
    },
    {
      "cell_type": "code",
      "source": [
        "reset_weights(conv_model)"
      ],
      "metadata": {
        "id": "Qlf_HTUdD_yj"
      },
      "execution_count": null,
      "outputs": []
    },
    {
      "cell_type": "code",
      "source": [
        "history_conv = conv_model.fit(X_dataset, Y_dataset, \n",
        "                              validation_split=VALIDATION_SPLIT, \n",
        "                              epochs=80, \n",
        "                              batch_size=16)"
      ],
      "metadata": {
        "colab": {
          "base_uri": "https://localhost:8080/",
          "height": 348
        },
        "id": "BUDzoHKkZV6O",
        "outputId": "51d57130-cddd-4096-ce80-c0cecdfbcf8c"
      },
      "execution_count": null,
      "outputs": [
        {
          "output_type": "error",
          "ename": "ValueError",
          "evalue": "ignored",
          "traceback": [
            "\u001b[0;31m---------------------------------------------------------------------------\u001b[0m",
            "\u001b[0;31mValueError\u001b[0m                                Traceback (most recent call last)",
            "\u001b[0;32m<ipython-input-40-22b3dcc99e65>\u001b[0m in \u001b[0;36m<module>\u001b[0;34m()\u001b[0m\n\u001b[1;32m      2\u001b[0m                               \u001b[0mvalidation_split\u001b[0m\u001b[0;34m=\u001b[0m\u001b[0mVALIDATION_SPLIT\u001b[0m\u001b[0;34m,\u001b[0m\u001b[0;34m\u001b[0m\u001b[0;34m\u001b[0m\u001b[0m\n\u001b[1;32m      3\u001b[0m                               \u001b[0mepochs\u001b[0m\u001b[0;34m=\u001b[0m\u001b[0;36m80\u001b[0m\u001b[0;34m,\u001b[0m\u001b[0;34m\u001b[0m\u001b[0;34m\u001b[0m\u001b[0m\n\u001b[0;32m----> 4\u001b[0;31m                               batch_size=16)\n\u001b[0m",
            "\u001b[0;32m/tensorflow-1.15.2/python3.7/tensorflow_core/python/keras/engine/training.py\u001b[0m in \u001b[0;36mfit\u001b[0;34m(self, x, y, batch_size, epochs, verbose, callbacks, validation_split, validation_data, shuffle, class_weight, sample_weight, initial_epoch, steps_per_epoch, validation_steps, validation_freq, max_queue_size, workers, use_multiprocessing, **kwargs)\u001b[0m\n\u001b[1;32m    725\u001b[0m         \u001b[0mmax_queue_size\u001b[0m\u001b[0;34m=\u001b[0m\u001b[0mmax_queue_size\u001b[0m\u001b[0;34m,\u001b[0m\u001b[0;34m\u001b[0m\u001b[0;34m\u001b[0m\u001b[0m\n\u001b[1;32m    726\u001b[0m         \u001b[0mworkers\u001b[0m\u001b[0;34m=\u001b[0m\u001b[0mworkers\u001b[0m\u001b[0;34m,\u001b[0m\u001b[0;34m\u001b[0m\u001b[0;34m\u001b[0m\u001b[0m\n\u001b[0;32m--> 727\u001b[0;31m         use_multiprocessing=use_multiprocessing)\n\u001b[0m\u001b[1;32m    728\u001b[0m \u001b[0;34m\u001b[0m\u001b[0m\n\u001b[1;32m    729\u001b[0m   def evaluate(self,\n",
            "\u001b[0;32m/tensorflow-1.15.2/python3.7/tensorflow_core/python/keras/engine/training_arrays.py\u001b[0m in \u001b[0;36mfit\u001b[0;34m(self, model, x, y, batch_size, epochs, verbose, callbacks, validation_split, validation_data, shuffle, class_weight, sample_weight, initial_epoch, steps_per_epoch, validation_steps, validation_freq, **kwargs)\u001b[0m\n\u001b[1;32m    641\u001b[0m         \u001b[0msteps\u001b[0m\u001b[0;34m=\u001b[0m\u001b[0msteps_per_epoch\u001b[0m\u001b[0;34m,\u001b[0m\u001b[0;34m\u001b[0m\u001b[0;34m\u001b[0m\u001b[0m\n\u001b[1;32m    642\u001b[0m         \u001b[0mvalidation_split\u001b[0m\u001b[0;34m=\u001b[0m\u001b[0mvalidation_split\u001b[0m\u001b[0;34m,\u001b[0m\u001b[0;34m\u001b[0m\u001b[0;34m\u001b[0m\u001b[0m\n\u001b[0;32m--> 643\u001b[0;31m         shuffle=shuffle)\n\u001b[0m\u001b[1;32m    644\u001b[0m \u001b[0;34m\u001b[0m\u001b[0m\n\u001b[1;32m    645\u001b[0m     \u001b[0;32mif\u001b[0m \u001b[0mvalidation_data\u001b[0m\u001b[0;34m:\u001b[0m\u001b[0;34m\u001b[0m\u001b[0;34m\u001b[0m\u001b[0m\n",
            "\u001b[0;32m/tensorflow-1.15.2/python3.7/tensorflow_core/python/keras/engine/training.py\u001b[0m in \u001b[0;36m_standardize_user_data\u001b[0;34m(self, x, y, sample_weight, class_weight, batch_size, check_steps, steps_name, steps, validation_split, shuffle, extract_tensors_from_dataset)\u001b[0m\n\u001b[1;32m   2469\u001b[0m           \u001b[0mfeed_input_shapes\u001b[0m\u001b[0;34m,\u001b[0m\u001b[0;34m\u001b[0m\u001b[0;34m\u001b[0m\u001b[0m\n\u001b[1;32m   2470\u001b[0m           \u001b[0mcheck_batch_axis\u001b[0m\u001b[0;34m=\u001b[0m\u001b[0;32mFalse\u001b[0m\u001b[0;34m,\u001b[0m  \u001b[0;31m# Don't enforce the batch size.\u001b[0m\u001b[0;34m\u001b[0m\u001b[0;34m\u001b[0m\u001b[0m\n\u001b[0;32m-> 2471\u001b[0;31m           exception_prefix='input')\n\u001b[0m\u001b[1;32m   2472\u001b[0m \u001b[0;34m\u001b[0m\u001b[0m\n\u001b[1;32m   2473\u001b[0m     \u001b[0;31m# Get typespecs for the input data and sanitize it if necessary.\u001b[0m\u001b[0;34m\u001b[0m\u001b[0;34m\u001b[0m\u001b[0;34m\u001b[0m\u001b[0m\n",
            "\u001b[0;32m/tensorflow-1.15.2/python3.7/tensorflow_core/python/keras/engine/training_utils.py\u001b[0m in \u001b[0;36mstandardize_input_data\u001b[0;34m(data, names, shapes, check_batch_axis, exception_prefix)\u001b[0m\n\u001b[1;32m    570\u001b[0m                              \u001b[0;34m': expected '\u001b[0m \u001b[0;34m+\u001b[0m \u001b[0mnames\u001b[0m\u001b[0;34m[\u001b[0m\u001b[0mi\u001b[0m\u001b[0;34m]\u001b[0m \u001b[0;34m+\u001b[0m \u001b[0;34m' to have shape '\u001b[0m \u001b[0;34m+\u001b[0m\u001b[0;34m\u001b[0m\u001b[0;34m\u001b[0m\u001b[0m\n\u001b[1;32m    571\u001b[0m                              \u001b[0mstr\u001b[0m\u001b[0;34m(\u001b[0m\u001b[0mshape\u001b[0m\u001b[0;34m)\u001b[0m \u001b[0;34m+\u001b[0m \u001b[0;34m' but got array with shape '\u001b[0m \u001b[0;34m+\u001b[0m\u001b[0;34m\u001b[0m\u001b[0;34m\u001b[0m\u001b[0m\n\u001b[0;32m--> 572\u001b[0;31m                              str(data_shape))\n\u001b[0m\u001b[1;32m    573\u001b[0m   \u001b[0;32mreturn\u001b[0m \u001b[0mdata\u001b[0m\u001b[0;34m\u001b[0m\u001b[0;34m\u001b[0m\u001b[0m\n\u001b[1;32m    574\u001b[0m \u001b[0;34m\u001b[0m\u001b[0m\n",
            "\u001b[0;31mValueError\u001b[0m: Error when checking input: expected conv2d_7_input to have shape (41, 25, 1) but got array with shape (41, 25, 3)"
          ]
        }
      ]
    },
    {
      "cell_type": "code",
      "source": [
        "conv_model.save(\"licence_CNN_model.h5\")"
      ],
      "metadata": {
        "id": "ij4KldAlEBw0"
      },
      "execution_count": null,
      "outputs": []
    },
    {
      "cell_type": "code",
      "source": [
        "plt.plot(history_conv.history['loss'])\n",
        "plt.plot(history_conv.history['val_loss'])\n",
        "plt.title('model loss')\n",
        "plt.ylabel('loss')\n",
        "plt.xlabel('epoch')\n",
        "plt.legend(['train loss', 'val loss'], loc='upper left')\n",
        "plt.show()"
      ],
      "metadata": {
        "id": "v1YNz_YkEC4u",
        "colab": {
          "base_uri": "https://localhost:8080/",
          "height": 315
        },
        "outputId": "6361cd8a-f6b6-4de4-867a-479fcb000a77"
      },
      "execution_count": null,
      "outputs": [
        {
          "output_type": "display_data",
          "data": {
            "text/plain": [
              "<Figure size 432x288 with 1 Axes>"
            ],
            "image/png": "[encoded data removed]"
          },
          "metadata": {}
        }
      ]
    },
    {
      "cell_type": "code",
      "source": [
        "plt.plot(history_conv.history['acc'])\n",
        "plt.plot(history_conv.history['val_acc'])\n",
        "plt.title('model accuracy')\n",
        "plt.ylabel('accuracy (%)')\n",
        "plt.xlabel('epoch')\n",
        "plt.legend(['train accuracy', 'val accuracy'], loc='upper left')\n",
        "plt.show()"
      ],
      "metadata": {
        "id": "haPqALZCEFtc",
        "colab": {
          "base_uri": "https://localhost:8080/",
          "height": 315
        },
        "outputId": "8dbeae31-77ee-4dce-df8d-4b99216c82a4"
      },
      "execution_count": null,
      "outputs": [
        {
          "output_type": "display_data",
          "data": {
            "text/plain": [
              "<Figure size 432x288 with 1 Axes>"
            ],
            "image/png": "[encoded data removed]"
          },
          "metadata": {}
        }
      ]
    },
    {
      "cell_type": "code",
      "source": [
        "from sklearn.metrics import confusion_matrix\n",
        "\n",
        "y_pred=conv_model.predict(X_dataset) \n",
        "y_pred=np.argmax(y_pred, axis=1)\n",
        "y_test=np.argmax(Y_dataset, axis=1)\n",
        "cm = confusion_matrix(y_test, y_pred)"
      ],
      "metadata": {
        "id": "pviSnfJbEGxQ"
      },
      "execution_count": null,
      "outputs": []
    },
    {
      "cell_type": "code",
      "source": [
        "import seaborn as sn\n",
        "import pandas as pd\n",
        "import matplotlib.pyplot as plt\n",
        "\n",
        "df_cm = pd.DataFrame(cm, range(36), range(36))\n",
        "plt.figure(figsize=(18,18))\n",
        "sn.set(font_scale=1.4)\n",
        "sn.heatmap(df_cm, annot=True, annot_kws={\"size\": 16})\n",
        "\n",
        "plt.show()"
      ],
      "metadata": {
        "id": "zGLXwWgpEH_M",
        "colab": {
          "base_uri": "https://localhost:8080/",
          "height": 1000
        },
        "outputId": "1e2a83f8-2e85-4ada-b58b-d8cd4e85ac3c"
      },
      "execution_count": null,
      "outputs": [
        {
          "output_type": "display_data",
          "data": {
            "text/plain": [
              "<Figure size 1296x1296 with 2 Axes>"
            ],
            "image/png": "[encoded data removed]"
          },
          "metadata": {}
        }
      ]
    },
    {
      "cell_type": "code",
      "source": [
        ""
      ],
      "metadata": {
        "id": "xdzEFfv8Zj6B"
      },
      "execution_count": null,
      "outputs": []
    }
  ]
}